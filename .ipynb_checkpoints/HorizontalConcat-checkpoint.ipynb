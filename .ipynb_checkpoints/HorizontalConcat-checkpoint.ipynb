{
 "metadata": {
  "name": "",
  "signature": "sha256:dd7e6f7b3ce8f8d9d763eb74e140d86eae44cbc3f645765d88daa74b608d45f4"
 },
 "nbformat": 3,
 "nbformat_minor": 0,
 "worksheets": [
  {
   "cells": [
    {
     "cell_type": "code",
     "collapsed": false,
     "input": [
      "import numpy"
     ],
     "language": "python",
     "metadata": {},
     "outputs": [],
     "prompt_number": 3
    },
    {
     "cell_type": "code",
     "collapsed": false,
     "input": [
      "for i in range(10):\n",
      "    if i == 1:\n",
      "        arr1 = numpy.array([1])\n",
      "        print arr1\n",
      "        \n",
      "    elif i > 1:\n",
      "        arr1 = numpy.hstack((arr1,i))     \n",
      "        print arr1"
     ],
     "language": "python",
     "metadata": {},
     "outputs": [
      {
       "output_type": "stream",
       "stream": "stdout",
       "text": [
        "[1]\n",
        "[1 2]\n",
        "[1 2 3]\n",
        "[1 2 3 4]\n",
        "[1 2 3 4 5]\n",
        "[1 2 3 4 5 6]\n",
        "[1 2 3 4 5 6 7]\n",
        "[1 2 3 4 5 6 7 8]\n",
        "[1 2 3 4 5 6 7 8 9]\n"
       ]
      }
     ],
     "prompt_number": 31
    }
   ],
   "metadata": {}
  }
 ]
}