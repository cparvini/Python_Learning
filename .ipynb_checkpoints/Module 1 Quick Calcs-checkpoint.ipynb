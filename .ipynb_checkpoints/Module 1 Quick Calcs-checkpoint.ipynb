{
 "metadata": {
  "name": "",
  "signature": "sha256:d71469ee84c1911b6908d27900bfced8a2b303b4ccfb585d6590ec79cd12d53e"
 },
 "nbformat": 3,
 "nbformat_minor": 0,
 "worksheets": [
  {
   "cells": [
    {
     "cell_type": "markdown",
     "metadata": {},
     "source": [
      "Module 1 Graded Assessment Test File"
     ]
    },
    {
     "cell_type": "code",
     "collapsed": false,
     "input": [
      "import numpy\n",
      "import scipy\n",
      "\n",
      "x = numpy.linspace(4,23,43)\n",
      "print(x[5])"
     ],
     "language": "python",
     "metadata": {},
     "outputs": [
      {
       "output_type": "stream",
       "stream": "stdout",
       "text": [
        "6.2619047619\n"
       ]
      }
     ],
     "prompt_number": 36
    },
    {
     "cell_type": "code",
     "collapsed": false,
     "input": [
      "ones_array = numpy.ones( (5,17) )\n",
      "zeros_array = numpy.zeros( ones_array.shape ) \n",
      "\n",
      "print(zeros_array.shape[0],zeros_array.shape[1])"
     ],
     "language": "python",
     "metadata": {},
     "outputs": [
      {
       "output_type": "stream",
       "stream": "stdout",
       "text": [
        "(5L, 17L)\n"
       ]
      }
     ],
     "prompt_number": 22
    },
    {
     "cell_type": "code",
     "collapsed": false,
     "input": [
      "p = 7\n",
      "r = numpy.array([11.2,4.7,6.6])\n",
      "\n",
      "ans = numpy.sin(p/r)**3\n",
      "print(ans)"
     ],
     "language": "python",
     "metadata": {},
     "outputs": [
      {
       "output_type": "stream",
       "stream": "stdout",
       "text": [
        "[ 0.20030151  0.99009101  0.66454238]\n"
       ]
      }
     ],
     "prompt_number": 45
    },
    {
     "cell_type": "code",
     "collapsed": false,
     "input": [
      "from math import log \n",
      "\n",
      "r = 2\n",
      "diffgrid2 = numpy.empty(2)\n",
      "dt_values2 = numpy.array([0.01,0.02,0.04])\n",
      "u_values2 = numpy.array([1.475,1.500,1.600])\n",
      "\n",
      "p = (log(u_values2[2] - u_values2[1]) - log(u_values2[1] - u_values2[0])) / log(r)\n",
      "\n",
      "print('The order of convergence is p = {:.3f}'.format(p));"
     ],
     "language": "python",
     "metadata": {},
     "outputs": [
      {
       "output_type": "stream",
       "stream": "stdout",
       "text": [
        "The order of convergence is p = 2.000\n"
       ]
      }
     ],
     "prompt_number": 53
    },
    {
     "cell_type": "code",
     "collapsed": false,
     "input": [],
     "language": "python",
     "metadata": {},
     "outputs": []
    }
   ],
   "metadata": {}
  }
 ]
}