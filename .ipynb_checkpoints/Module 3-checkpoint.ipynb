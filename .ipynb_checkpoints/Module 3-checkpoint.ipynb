{
 "metadata": {
  "name": "",
  "signature": "sha256:19b55297f6c6fb8a78fd2ea8231976221f13909659d6c9c68b1d5aefbc30360a"
 },
 "nbformat": 3,
 "nbformat_minor": 0,
 "worksheets": []
}